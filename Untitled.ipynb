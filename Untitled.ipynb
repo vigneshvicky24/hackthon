{
  "metadata": {
    "language_info": {
      "codemirror_mode": {
        "name": "python",
        "version": 3
      },
      "file_extension": ".py",
      "mimetype": "text/x-python",
      "name": "python",
      "nbconvert_exporter": "python",
      "pygments_lexer": "ipython3",
      "version": "3.8"
    },
    "kernelspec": {
      "name": "python",
      "display_name": "Python (Pyodide)",
      "language": "python"
    }
  },
  "nbformat_minor": 4,
  "nbformat": 4,
  "cells": [
    {
      "cell_type": "code",
      "source": "import numpy as np\nimport pandas as pd\nimport matplotlib.pyplot as plt\n",
      "metadata": {
        "trusted": true
      },
      "execution_count": 34,
      "outputs": []
    },
    {
      "cell_type": "code",
      "source": "class perceptron(object):\n    def __init__(self,l_r,iter_):\n        self.l_r\n        self.iter_=iter_\n    def fit(self,X,y):\n        self.w=np.zeros(1+X.shape[1])\n        self.error=[]\n        for _ in range(self.iter_):\n            update_w=self.l_r=(target- self.predict(xi))\n            self.w_[1:]+= update_w * Xi\n            self.w_[1] += update\n            error += int(update!=0)\n    def input_(self,X):\n        return np.dot(X,self.w_[1:]) +self.w_[0] //dot_product_of_X_and_weights\n    def predict(self,X):\n        return np.where(self.input(X) >=0.0,-1) //prediciting_mis",
      "metadata": {
        "trusted": true
      },
      "execution_count": 30,
      "outputs": []
    },
    {
      "cell_type": "code",
      "source": "from sklearn.model_selection import train_test_split\nfrom sklearn import datasets,linear_model\nfrom sklearn.metrics import mean_squared_error,r2_score",
      "metadata": {
        "trusted": true
      },
      "execution_count": 11,
      "outputs": []
    },
    {
      "cell_type": "code",
      "source": "#Load the diabetes dataset\ndiabetes_X, diabetes_y=datasets.load_diabetes(return_X_y=True)\n\n# Use only one feature\ndiabetes_X=diabetes_X[:,np.newaxis,2]\n\n#Split the data into training/testing sets\ndiabetes_X_train=diabetes_X[:-20]\ndiabetes_X_test=diabetes_X[-20:]\n\n#Split the targets into training/testing sets\ndiabetes_y_train = diabetes_y[:-20]\ndiabetes_y_test = diabetes_y[-20:]\n\n#Create linear regression object\nregr=linear_model.LinearRegression()\n\n#Train the model using the training sets\nregr.fit(diabetes_X_train,diabetes_y_train)\n\n#Make predictions using the training sets\ndiabetes_y_pred = regr.predict(diabetes_X_test)\n\n#The coefficients\nprint(\"Coefficients: \\n\",regr.coef_)\n\n#The mean squared error\nprint(\"Mean squared error:%.2f\" % mean_squared_error(diabetes_y_test,diabetes_y_pred))\n \n #Plot outputs\nplt.scatter(diabetes_X_test,diabetes_y_test,color=\"black\")\nplt.plot(diabetes_X_test,diabetes_y_pred,color=\"blue\",linewidth=3)\n\nplt.xticks(())\nplt.yticks(())\nplt.show()",
      "metadata": {
        "trusted": true
      },
      "execution_count": 35,
      "outputs": [
        {
          "name": "stdout",
          "text": "Coefficients: \n [938.23786125]\nMean squared error:2548.07\n",
          "output_type": "stream"
        },
        {
          "output_type": "display_data",
          "data": {
            "text/plain": "<pyolite.display.Image at 0x678e960>",
            "image/png": "[encoded data removed]"
          },
          "metadata": {}
        }
      ]
    },
    {
      "cell_type": "code",
      "source": "",
      "metadata": {},
      "execution_count": null,
      "outputs": []
    }
  ]
}